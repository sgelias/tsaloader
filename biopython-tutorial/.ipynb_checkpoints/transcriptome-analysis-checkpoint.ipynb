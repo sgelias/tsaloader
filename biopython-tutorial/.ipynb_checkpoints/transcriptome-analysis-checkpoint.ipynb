{
 "cells": [
  {
   "cell_type": "markdown",
   "metadata": {},
   "source": [
    "___\n",
    "# Download data"
   ]
  },
  {
   "cell_type": "markdown",
   "metadata": {},
   "source": [
    "## Import libraries"
   ]
  },
  {
   "cell_type": "code",
   "execution_count": 115,
   "metadata": {
    "collapsed": false
   },
   "outputs": [],
   "source": [
    "import sys\n",
    "import re\n",
    "import threading\n",
    "import logging\n",
    "import pandas as pd\n",
    "import urllib\n",
    "from urllib.error import HTTPError\n",
    "from queue import Queue"
   ]
  },
  {
   "cell_type": "markdown",
   "metadata": {},
   "source": [
    "## Create class to call recursively"
   ]
  },
  {
   "cell_type": "code",
   "execution_count": null,
   "metadata": {
    "collapsed": false
   },
   "outputs": [],
   "source": []
  },
  {
   "cell_type": "code",
   "execution_count": 224,
   "metadata": {
    "collapsed": false
   },
   "outputs": [],
   "source": [
    "class TsaDownloader:\n",
    "    \n",
    "    def __init__(self, **kwargs):\n",
    "        self.tsaTable = kwargs.get('tsaTable', None)\n",
    "        #self.tsaTable = tsaTable\n",
    "    \n",
    "    def getResponseCode(self, **url):\n",
    "        self.url = url.get('url', None)\n",
    "        try:\n",
    "            conn = urllib.request.urlopen(self.url)\n",
    "            return conn.getcode()\n",
    "        except HTTPError as e:\n",
    "            return e.code\n",
    "    \n",
    "    def tsaTableParser(self, **kwargs):\n",
    "        self.ran = kwargs.get('ran', None)\n",
    "        self.folder = kwargs.get('folder', './')\n",
    "        df = pd.read_csv(self.tsaTable)\n",
    "        \n",
    "        for tsa_code in df['prefix_s']:\n",
    "            \n",
    "            prefix_s = tsa_code\n",
    "            prefix_match = re.search(r'(^[A-Z]{2})([A-Z]{2})[0-9]+', prefix_s)\n",
    "            \n",
    "            # make url\n",
    "            base_url = 'https://sra-download.ncbi.nlm.nih.gov/traces/wgs03/wgs_aux/{}/{}/{}/{}.1.fsa_nt.gz'.format(\n",
    "                prefix_match.group(1), prefix_match.group(2), prefix_s, prefix_s)\n",
    "            print(base_url)\n",
    "            \n",
    "            code = getResponseCode(base_url)\n",
    "            \n",
    "            if code == 200:\n",
    "                save_url = '{}/{}.1.fsa_nt.gz'.format(self.folder, prefix_s)\n",
    "                req = urllib.request.URLopener()\n",
    "                req.retrieve(base_url, save_url)\n",
    "                print(prefix_s + 'saved in ' + save_url)\n",
    "                \n",
    "            else:\n",
    "                print(prefix_s + 'not found')\n",
    "                next\n",
    "                \n",
    "            \n",
    "        \n",
    "        #return df"
   ]
  },
  {
   "cell_type": "code",
   "execution_count": 227,
   "metadata": {
    "collapsed": false,
    "scrolled": true
   },
   "outputs": [],
   "source": [
    "test = TsaDownloader(tsaTable = 'wgs_selector.csv')\n",
    "test.tsaTableParser(ran = 2, folder = './tsaFiles')"
   ]
  },
  {
   "cell_type": "code",
   "execution_count": null,
   "metadata": {
    "collapsed": false
   },
   "outputs": [],
   "source": []
  },
  {
   "cell_type": "code",
   "execution_count": null,
   "metadata": {
    "collapsed": false
   },
   "outputs": [],
   "source": []
  },
  {
   "cell_type": "code",
   "execution_count": null,
   "metadata": {
    "collapsed": false
   },
   "outputs": [],
   "source": []
  },
  {
   "cell_type": "code",
   "execution_count": 139,
   "metadata": {
    "collapsed": false,
    "scrolled": true
   },
   "outputs": [],
   "source": [
    "df = pd.read_csv('wgs_selector.csv')\n",
    "#df['prefix_s']"
   ]
  },
  {
   "cell_type": "markdown",
   "metadata": {},
   "source": [
    "## Concatenate url"
   ]
  },
  {
   "cell_type": "code",
   "execution_count": 37,
   "metadata": {
    "collapsed": false
   },
   "outputs": [
    {
     "data": {
      "text/plain": [
       "('GG', 'JG')"
      ]
     },
     "execution_count": 37,
     "metadata": {},
     "output_type": "execute_result"
    }
   ],
   "source": [
    "prefix_s = 'GGJG01'\n",
    "prefix_match = re.search(r'(^[A-Z]{2})([A-Z]{2})[0-9]', prefix_s)\n",
    "prefix_match.groups()\n"
   ]
  },
  {
   "cell_type": "code",
   "execution_count": 89,
   "metadata": {
    "collapsed": false
   },
   "outputs": [
    {
     "name": "stdout",
     "output_type": "stream",
     "text": [
      "https://sra-download.ncbi.nlm.nih.gov/traces/wgs03/wgs_aux/GG/JG/GGJG01/GGJG01.2.fsa_nt.gz\n",
      "./GGJG01.2.fsa_nt.gz\n"
     ]
    }
   ],
   "source": [
    "# base_url = 'https://sra-download.ncbi.nlm.nih.gov/traces/wgs03/wgs_aux/GC/EP/GCEP01/GCEP01.1.fsa_nt.gz'\n",
    "\n",
    "i = 2\n",
    "\n",
    "base_url = 'https://sra-download.ncbi.nlm.nih.gov/traces/wgs03/wgs_aux/{}/{}/{}/{}.{}.fsa_nt.gz'.format(\n",
    "    prefix_match.group(1), prefix_match.group(2), prefix_s, prefix_s, i\n",
    ")\n",
    "\n",
    "save_url = './{}.{}.fsa_nt.gz'.format(\n",
    "    prefix_s, i\n",
    ")\n",
    "\n",
    "print(base_url)\n",
    "print(save_url)"
   ]
  },
  {
   "cell_type": "markdown",
   "metadata": {},
   "source": [
    "## Test download"
   ]
  },
  {
   "cell_type": "code",
   "execution_count": 45,
   "metadata": {
    "collapsed": false
   },
   "outputs": [],
   "source": [
    "#test = Downloader(base_url).run()"
   ]
  },
  {
   "cell_type": "code",
   "execution_count": 114,
   "metadata": {
    "collapsed": false
   },
   "outputs": [
    {
     "data": {
      "text/plain": [
       "404"
      ]
     },
     "execution_count": 114,
     "metadata": {},
     "output_type": "execute_result"
    }
   ],
   "source": [
    "#urllib.request(base_url)\n",
    "#req = urllib.request.Request(base_url)\n",
    "#response = urllib.request.urlopen(req)\n",
    "#html = response.read()\n",
    "\n",
    "# TEST URL\n",
    "#req = urllib.request.Request(base_url)\n",
    "#response = urllib.request.urlopen(base_url)\n",
    "#print(response.HTTPError())\n",
    "\n",
    "\n",
    "\n",
    "\n",
    "getResponseCode(base_url)"
   ]
  },
  {
   "cell_type": "code",
   "execution_count": null,
   "metadata": {
    "collapsed": true
   },
   "outputs": [],
   "source": [
    "# PERFORM REQUEST\n",
    "req = urllib.request.URLopener()\n",
    "req.retrieve(base_url, save_url)"
   ]
  },
  {
   "cell_type": "code",
   "execution_count": null,
   "metadata": {
    "collapsed": true
   },
   "outputs": [],
   "source": []
  }
 ],
 "metadata": {
  "kernelspec": {
   "display_name": "Python 3",
   "language": "python",
   "name": "python3"
  },
  "language_info": {
   "codemirror_mode": {
    "name": "ipython",
    "version": 3
   },
   "file_extension": ".py",
   "mimetype": "text/x-python",
   "name": "python",
   "nbconvert_exporter": "python",
   "pygments_lexer": "ipython3",
   "version": "3.5.2"
  }
 },
 "nbformat": 4,
 "nbformat_minor": 1
}
