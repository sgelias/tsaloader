{
 "cells": [
  {
   "cell_type": "markdown",
   "metadata": {},
   "source": [
    "___\n",
    "# Download data"
   ]
  },
  {
   "cell_type": "markdown",
   "metadata": {},
   "source": [
    "## Import libraries"
   ]
  },
  {
   "cell_type": "code",
   "execution_count": 9,
   "metadata": {
    "collapsed": false
   },
   "outputs": [],
   "source": [
    "import sys\n",
    "import re\n",
    "import time\n",
    "import threading\n",
    "import logging\n",
    "import pandas as pd\n",
    "import urllib\n",
    "import urllib.request  as urllib2\n",
    "from urllib.error import HTTPError\n",
    "from queue import Queue"
   ]
  },
  {
   "cell_type": "markdown",
   "metadata": {},
   "source": [
    "## Create class for call recursively"
   ]
  },
  {
   "cell_type": "code",
   "execution_count": 31,
   "metadata": {
    "collapsed": false
   },
   "outputs": [],
   "source": [
    "class TsaDownloader:\n",
    "    \n",
    "    def __init__(self, **kwargs):\n",
    "        self.tsaTable = kwargs.get('tsaTable', None)\n",
    "        \n",
    "    \n",
    "    def getResponseCode(self, **kwargs):\n",
    "        self.url = kwargs.get('url', None)\n",
    "        try:\n",
    "            conn = urllib.request.urlopen(self.url)\n",
    "            return conn.getcode()\n",
    "        except HTTPError as e:\n",
    "            return e.code\n",
    "    \n",
    "    \n",
    "    # CRIAR UMA FUNÇÃO PARA RECONHECER O ÚLTIMO REGISTRO BAIXADO AQUI\n",
    "    \n",
    "    \n",
    "    def tsaTableParser(self, **kwargs):\n",
    "        self.verbose = kwargs.get('verbose', False)\n",
    "        self.ran = kwargs.get('ran', None)\n",
    "        self.folder = kwargs.get('folder', './')\n",
    "        \n",
    "        df = pd.read_csv(self.tsaTable)\n",
    "        \n",
    "        # Gets or creates a logger\n",
    "        logger = logging.getLogger('__name__')\n",
    "        \n",
    "        if not logger.handlers:\n",
    "            # define file handler and set formatter\n",
    "            file_handler = logging.FileHandler('logfile.log')\n",
    "            formatter    = logging.Formatter('[ %(asctime)s - %(levelname)s ] - %(message)s')\n",
    "            file_handler.setFormatter(formatter)\n",
    "\n",
    "            # set log level\n",
    "            logger.setLevel(logging.DEBUG)\n",
    "\n",
    "            # avoid message propagation to other logger's\n",
    "            logger.propagate = False\n",
    "\n",
    "            # add file handler to logger\n",
    "            logger.addHandler(file_handler)\n",
    "        \n",
    "        # start log\n",
    "        logger.info(\n",
    "            \"Start work\\n\"\\\n",
    "            \"\\n>>>>>>>>>>>>>>>>>>> ------------------------------------ <<<<<<<<<<<<<<<<<<<<<\"\\\n",
    "            \"\\n>>>>>>>>>>>>>>>>>>> --- TSA-TABLE-PARSER-INITIALIZED --- <<<<<<<<<<<<<<<<<<<<<\"\\\n",
    "            \"\\n>>>>>>>>>>>>>>>>>>> ------------------------------------ <<<<<<<<<<<<<<<<<<<<<\\n\"\\\n",
    "        )\n",
    "        \n",
    "        for tsa_code in df['prefix_s']:\n",
    "            \n",
    "            prefix_match = re.search(r'(^[A-Z]{2})([A-Z]{2})[0-9]+', tsa_code)\n",
    "            \n",
    "            # make url\n",
    "            base_url = \"https://sra-download.ncbi.nlm.nih.gov/traces/wgs03/wgs_aux/{}/{}/{}/{}.1.fsa_nt.gz\".format(\n",
    "                    prefix_match.group(1), prefix_match.group(2), tsa_code, tsa_code\n",
    "            )\n",
    "            \n",
    "            if self.verbose:\n",
    "                print(base_url)\n",
    "            \n",
    "            code = self.getResponseCode(url=base_url)\n",
    "            \n",
    "            if code == 200:\n",
    "                \n",
    "                # make location to save file\n",
    "                save_url = '{}/{}.1.fsa_nt.gz'.format(self.folder, tsa_code)\n",
    "                \n",
    "                # retrieve object size\n",
    "                req = urllib.request.urlopen(base_url)\n",
    "                objSize = req.info()['Content-Length']\n",
    "                \n",
    "                # log tsa_code and start time\n",
    "                start = time.clock()\n",
    "                logger.info('Downloading: %s (size: %.1fM)', tsa_code, int(objSize) / 1e+6)\n",
    "                \n",
    "                #urllib.request.urlretrieve(base_url, save_url)\n",
    "                #req.retrieve(base_url, save_url)\n",
    "                \n",
    "                logger.info('Download finished (elapsed time: %.3fS)', time.clock() - start)\n",
    "                \n",
    "                if self.verbose:\n",
    "                    print(tsa_code + ' saved in ' + save_url)\n",
    "                \n",
    "            else:\n",
    "                print(tsa_code + 'not found')\n",
    "                next\n",
    "        \n",
    "        logger.info('Work finished!')\n",
    "        #logger.removeHandler(file_handler)\n",
    "        #del logger, file_handler\n",
    "        \n",
    "        \n",
    "        # INCLUDE A LOG FILE TO CONTROL ALSO DOWNLOADED FILES AND OTHER'S\n",
    "        \n",
    "        #return df"
   ]
  },
  {
   "cell_type": "code",
   "execution_count": 32,
   "metadata": {
    "collapsed": false,
    "scrolled": true
   },
   "outputs": [],
   "source": [
    "test = TsaDownloader(tsaTable = 'wgs_tsa_test.csv')"
   ]
  },
  {
   "cell_type": "code",
   "execution_count": 33,
   "metadata": {
    "collapsed": false
   },
   "outputs": [],
   "source": [
    "test.tsaTableParser(ran = 2, folder = './tsaFilesEudicots')"
   ]
  },
  {
   "cell_type": "code",
   "execution_count": null,
   "metadata": {
    "collapsed": false
   },
   "outputs": [],
   "source": []
  },
  {
   "cell_type": "code",
   "execution_count": null,
   "metadata": {
    "collapsed": false
   },
   "outputs": [],
   "source": []
  },
  {
   "cell_type": "code",
   "execution_count": null,
   "metadata": {
    "collapsed": false,
    "scrolled": true
   },
   "outputs": [],
   "source": []
  }
 ],
 "metadata": {
  "kernelspec": {
   "display_name": "Python 3",
   "language": "python",
   "name": "python3"
  },
  "language_info": {
   "codemirror_mode": {
    "name": "ipython",
    "version": 3
   },
   "file_extension": ".py",
   "mimetype": "text/x-python",
   "name": "python",
   "nbconvert_exporter": "python",
   "pygments_lexer": "ipython3",
   "version": "3.5.2"
  }
 },
 "nbformat": 4,
 "nbformat_minor": 1
}
